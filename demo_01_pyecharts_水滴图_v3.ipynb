{
 "cells": [
  {
   "cell_type": "code",
   "execution_count": null,
   "metadata": {},
   "outputs": [],
   "source": [
    "# 注意要连接外网\n",
    "# 注意有些浏览器会禁止下载js文件，所以需要手动下载\n",
    "# c.render_notebook() 有时需要刷新页面才可以看到\n",
    "\n",
    "%pip install pyecharts"
   ]
  },
  {
   "cell_type": "code",
   "execution_count": null,
   "metadata": {},
   "outputs": [],
   "source": [
    "# 查看版本，要2.0以上\n",
    "import pyecharts\n",
    "print(pyecharts.__version__)"
   ]
  },
  {
   "cell_type": "code",
   "execution_count": null,
   "metadata": {},
   "outputs": [],
   "source": [
    "from pyecharts import options as opts\n",
    "from pyecharts.charts import Liquid\n",
    "\n",
    "c = (\n",
    "    Liquid()\n",
    "    .add(\"比例\", [0.6, 0.65])\n",
    "    .set_global_opts(title_opts=opts.TitleOpts(title=\"Liquid-水滴图-基本示例\"))\n",
    ")\n",
    "c.render_notebook() "
   ]
  },
  {
   "cell_type": "code",
   "execution_count": null,
   "metadata": {},
   "outputs": [],
   "source": [
    "from pyecharts import options as opts\n",
    "from pyecharts.charts import Liquid\n",
    "\n",
    "c = (\n",
    "    Liquid()\n",
    "    .add(\"lq\", [0.6, 0.7])\n",
    "    .set_global_opts(title_opts=opts.TitleOpts(title=\"Liquid-基本示例\"))\n",
    ") \n",
    "c.render('render.html') \n",
    "\n",
    "# 注意浏览器没有阻止js文件的下载才行"
   ]
  }
 ],
 "metadata": {
  "kernelspec": {
   "display_name": "Python 3",
   "language": "python",
   "name": "python3"
  },
  "language_info": {
   "codemirror_mode": {
    "name": "ipython",
    "version": 3
   },
   "file_extension": ".py",
   "mimetype": "text/x-python",
   "name": "python",
   "nbconvert_exporter": "python",
   "pygments_lexer": "ipython3",
   "version": "3.8.3"
  }
 },
 "nbformat": 4,
 "nbformat_minor": 4
}
